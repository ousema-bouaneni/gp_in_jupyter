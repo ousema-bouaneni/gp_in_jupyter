{
 "cells": [
  {
   "cell_type": "markdown",
   "id": "a1210605-8636-46db-80cf-ca2dcdc5986e",
   "metadata": {},
   "source": [
    "# Project Euler Problem 97: Large Non-Mersenne Prime\n",
    "What are the last 10 digits of the large prime 28433*2^7830457+1?"
   ]
  },
  {
   "cell_type": "code",
   "execution_count": 1,
   "id": "a2689bab-ccc3-47b7-b725-beb5ccefb4ad",
   "metadata": {},
   "outputs": [
    {
     "data": {
      "text/plain": []
     },
     "execution_count": 1,
     "metadata": {},
     "output_type": "execute_result"
    },
    {
     "name": "stdout",
     "output_type": "stream",
     "text": [
      "\u001b[0;95m%1 = \u001b[0;96mMod(8739992577, 10000000000)\u001b[0m\n"
     ]
    }
   ],
   "source": [
    "Mod(28433*2^7830457+1, 10^10)"
   ]
  },
  {
   "cell_type": "code",
   "execution_count": null,
   "id": "34f82f61-76dd-4360-bb17-dbda565ff6f3",
   "metadata": {},
   "outputs": [],
   "source": []
  }
 ],
 "metadata": {
  "kernelspec": {
   "display_name": "PARI/GP (xeus-gp)",
   "language": "gp",
   "name": "xeus-gp"
  },
  "language_info": {
   "codemirror_mode": "",
   "file_extension": ".gp",
   "mimetype": "text/x-gp",
   "name": "gp",
   "nbconvert_exporter": "",
   "pygments_lexer": "gp",
   "version": "GP/PARI CALCULATOR Version 2.17.2 (released)"
  }
 },
 "nbformat": 4,
 "nbformat_minor": 5
}
